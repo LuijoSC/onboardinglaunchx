{
 "cells": [
  {
   "cell_type": "markdown",
   "metadata": {},
   "source": [
    "# Kata 3: Declaraciones if, else y elif"
   ]
  },
  {
   "cell_type": "markdown",
   "metadata": {},
   "source": [
    "A continuación, la lógica condicional imprimirá una advertencia si un asteroide se acerca a La Tierra demasiado rápido. La velocidad del asteroide varía dependiendo de lo cerca que esté del sol, y cualquier velocidad superior a 25 kilómetros por segundo (km/s) merece una advertencia. \n",
    "\n",
    "Un asteroide se acerca, y viaja a una velocidad de 49 km/s."
   ]
  },
  {
   "cell_type": "code",
   "execution_count": 10,
   "metadata": {},
   "outputs": [
    {
     "name": "stdout",
     "output_type": "stream",
     "text": [
      "¡Advertencia\" Hay un asteroide acercándose a La Tierra muy rápido\n"
     ]
    }
   ],
   "source": [
    "velAsteroide = 49\n",
    "if velAsteroide > 25:\n",
    "    print('¡Advertencia\" Hay un asteroide acercándose a La Tierra muy rápido')\n",
    "else:\n",
    "    print('¡Todo despejado cap!')"
   ]
  },
  {
   "cell_type": "markdown",
   "metadata": {},
   "source": [
    "Cuando un asteroide entra en a atmósfera de La Tierra a una velocidad IGUAL O MAYOR a 20 km/s, puede producir un rayo de luz que se puede ver desde La Tierra. \n",
    "El siguiente código con declaraciones 'if, else y elif' muestra el ejemplo de lo que sucedería si la velocidad fuera de 19 km/s, pero también incluirá la parte, en caso de que sea menor."
   ]
  },
  {
   "cell_type": "code",
   "execution_count": 12,
   "metadata": {},
   "outputs": [
    {
     "name": "stdout",
     "output_type": "stream",
     "text": [
      "El cielo está en calma\n"
     ]
    }
   ],
   "source": [
    "velAsteroide = 19\n",
    "if velAsteroide > 20:\n",
    "    print ('¡Prepárense para el gran espectáculo! El cielo está a punto de brillar')\n",
    "elif velAsteroide == 20:\n",
    "    print('¡Un asteroide está por acercarse a la velocidad perfecta. Se avecina un gran show de luz!')\n",
    "else:\n",
    "    print('El cielo está en calma')"
   ]
  },
  {
   "cell_type": "markdown",
   "metadata": {},
   "source": [
    "¿Qué pasaría si se acercara justo a 20 km/s?"
   ]
  },
  {
   "cell_type": "code",
   "execution_count": 13,
   "metadata": {},
   "outputs": [
    {
     "name": "stdout",
     "output_type": "stream",
     "text": [
      "¡Un asteroide está por acercarse a la velocidad perfecta. Se avecina un gran show de luz!\n"
     ]
    }
   ],
   "source": [
    "velAsteroide = 20\n",
    "if velAsteroide > 20:\n",
    "    print ('¡Prepárense para el gran espectáculo! El cielo está a punto de brillar')\n",
    "elif velAsteroide == 20:\n",
    "    print('¡Un asteroide está por acercarse a la velocidad perfecta. Se avecina un gran show de luz!')\n",
    "else:\n",
    "    print('El cielo está en calma')"
   ]
  }
 ],
 "metadata": {
  "interpreter": {
   "hash": "aee8b7b246df8f9039afb4144a1f6fd8d2ca17a180786b69acc140d282b71a49"
  },
  "kernelspec": {
   "display_name": "Python 3.10.2 64-bit",
   "language": "python",
   "name": "python3"
  },
  "language_info": {
   "codemirror_mode": {
    "name": "ipython",
    "version": 3
   },
   "file_extension": ".py",
   "mimetype": "text/x-python",
   "name": "python",
   "nbconvert_exporter": "python",
   "pygments_lexer": "ipython3",
   "version": "3.10.2"
  },
  "orig_nbformat": 4
 },
 "nbformat": 4,
 "nbformat_minor": 2
}
